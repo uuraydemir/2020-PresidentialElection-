{
  "nbformat": 4,
  "nbformat_minor": 0,
  "metadata": {
    "colab": {
      "name": "Presidential Election.ipynb",
      "provenance": [],
      "collapsed_sections": [],
      "toc_visible": true
    },
    "kernelspec": {
      "name": "python3",
      "display_name": "Python 3"
    }
  },
  "cells": [
    {
      "cell_type": "markdown",
      "metadata": {
        "id": "L2PTDFTJf5Ki"
      },
      "source": [
        "# Presidential Election\n",
        "\n",
        "Main aim of this project to learn how to deal with GDELT data and make a basic US election prediction model "
      ]
    },
    {
      "cell_type": "markdown",
      "metadata": {
        "id": "sbOlYEAdgICi"
      },
      "source": [
        "# Resources\n",
        "* https://analysis.gdeltproject.org/\n",
        "\n",
        "* https://towardsdatascience.com/polls-and-press-ef340199e425\n",
        "\n",
        "* https://github.com/sgodfrey66/Polls_and_press/blob/master/code/Google_BigQuery.ipynb\n",
        "\n",
        "* https://nbviewer.jupyter.org/github/JamesPHoughton/Published_Blog_Scripts/blob/master/GDELT%20Wrangler%20-%20Clean.ipynb\n",
        "\n",
        "* https://fivethirtyeight.com/\n",
        "\n",
        "# Accessing GDELT data without Google Bigquery\n",
        "https://pypi.org/project/gdelt/"
      ]
    },
    {
      "cell_type": "code",
      "metadata": {
        "id": "it7r81MAf2O7",
        "outputId": "5e6a3d50-bbce-48b6-dfb1-a965031f8a51",
        "colab": {
          "base_uri": "https://localhost:8080/",
          "height": 272
        }
      },
      "source": [
        "!pip install gdelt"
      ],
      "execution_count": null,
      "outputs": [
        {
          "output_type": "stream",
          "text": [
            "Collecting gdelt\n",
            "\u001b[?25l  Downloading https://files.pythonhosted.org/packages/65/f9/a3d5111c8f17334b1752c32aedaab0d01ab4324bf26417bd41890d5b25d0/gdelt-0.1.10.6.1-py2.py3-none-any.whl (773kB)\n",
            "\r\u001b[K     |▍                               | 10kB 16.3MB/s eta 0:00:01\r\u001b[K     |▉                               | 20kB 4.9MB/s eta 0:00:01\r\u001b[K     |█▎                              | 30kB 6.8MB/s eta 0:00:01\r\u001b[K     |█▊                              | 40kB 6.8MB/s eta 0:00:01\r\u001b[K     |██▏                             | 51kB 5.7MB/s eta 0:00:01\r\u001b[K     |██▌                             | 61kB 6.4MB/s eta 0:00:01\r\u001b[K     |███                             | 71kB 6.6MB/s eta 0:00:01\r\u001b[K     |███▍                            | 81kB 7.4MB/s eta 0:00:01\r\u001b[K     |███▉                            | 92kB 8.1MB/s eta 0:00:01\r\u001b[K     |████▎                           | 102kB 7.5MB/s eta 0:00:01\r\u001b[K     |████▋                           | 112kB 7.5MB/s eta 0:00:01\r\u001b[K     |█████                           | 122kB 7.5MB/s eta 0:00:01\r\u001b[K     |█████▌                          | 133kB 7.5MB/s eta 0:00:01\r\u001b[K     |██████                          | 143kB 7.5MB/s eta 0:00:01\r\u001b[K     |██████▍                         | 153kB 7.5MB/s eta 0:00:01\r\u001b[K     |██████▊                         | 163kB 7.5MB/s eta 0:00:01\r\u001b[K     |███████▏                        | 174kB 7.5MB/s eta 0:00:01\r\u001b[K     |███████▋                        | 184kB 7.5MB/s eta 0:00:01\r\u001b[K     |████████                        | 194kB 7.5MB/s eta 0:00:01\r\u001b[K     |████████▌                       | 204kB 7.5MB/s eta 0:00:01\r\u001b[K     |█████████                       | 215kB 7.5MB/s eta 0:00:01\r\u001b[K     |█████████▎                      | 225kB 7.5MB/s eta 0:00:01\r\u001b[K     |█████████▊                      | 235kB 7.5MB/s eta 0:00:01\r\u001b[K     |██████████▏                     | 245kB 7.5MB/s eta 0:00:01\r\u001b[K     |██████████▋                     | 256kB 7.5MB/s eta 0:00:01\r\u001b[K     |███████████                     | 266kB 7.5MB/s eta 0:00:01\r\u001b[K     |███████████▍                    | 276kB 7.5MB/s eta 0:00:01\r\u001b[K     |███████████▉                    | 286kB 7.5MB/s eta 0:00:01\r\u001b[K     |████████████▎                   | 296kB 7.5MB/s eta 0:00:01\r\u001b[K     |████████████▊                   | 307kB 7.5MB/s eta 0:00:01\r\u001b[K     |█████████████▏                  | 317kB 7.5MB/s eta 0:00:01\r\u001b[K     |█████████████▌                  | 327kB 7.5MB/s eta 0:00:01\r\u001b[K     |██████████████                  | 337kB 7.5MB/s eta 0:00:01\r\u001b[K     |██████████████▍                 | 348kB 7.5MB/s eta 0:00:01\r\u001b[K     |██████████████▉                 | 358kB 7.5MB/s eta 0:00:01\r\u001b[K     |███████████████▎                | 368kB 7.5MB/s eta 0:00:01\r\u001b[K     |███████████████▊                | 378kB 7.5MB/s eta 0:00:01\r\u001b[K     |████████████████                | 389kB 7.5MB/s eta 0:00:01\r\u001b[K     |████████████████▌               | 399kB 7.5MB/s eta 0:00:01\r\u001b[K     |█████████████████               | 409kB 7.5MB/s eta 0:00:01\r\u001b[K     |█████████████████▍              | 419kB 7.5MB/s eta 0:00:01\r\u001b[K     |█████████████████▉              | 430kB 7.5MB/s eta 0:00:01\r\u001b[K     |██████████████████▏             | 440kB 7.5MB/s eta 0:00:01\r\u001b[K     |██████████████████▋             | 450kB 7.5MB/s eta 0:00:01\r\u001b[K     |███████████████████             | 460kB 7.5MB/s eta 0:00:01\r\u001b[K     |███████████████████▌            | 471kB 7.5MB/s eta 0:00:01\r\u001b[K     |████████████████████            | 481kB 7.5MB/s eta 0:00:01\r\u001b[K     |████████████████████▎           | 491kB 7.5MB/s eta 0:00:01\r\u001b[K     |████████████████████▊           | 501kB 7.5MB/s eta 0:00:01\r\u001b[K     |█████████████████████▏          | 512kB 7.5MB/s eta 0:00:01\r\u001b[K     |█████████████████████▋          | 522kB 7.5MB/s eta 0:00:01\r\u001b[K     |██████████████████████          | 532kB 7.5MB/s eta 0:00:01\r\u001b[K     |██████████████████████▍         | 542kB 7.5MB/s eta 0:00:01\r\u001b[K     |██████████████████████▉         | 552kB 7.5MB/s eta 0:00:01\r\u001b[K     |███████████████████████▎        | 563kB 7.5MB/s eta 0:00:01\r\u001b[K     |███████████████████████▊        | 573kB 7.5MB/s eta 0:00:01\r\u001b[K     |████████████████████████▏       | 583kB 7.5MB/s eta 0:00:01\r\u001b[K     |████████████████████████▋       | 593kB 7.5MB/s eta 0:00:01\r\u001b[K     |█████████████████████████       | 604kB 7.5MB/s eta 0:00:01\r\u001b[K     |█████████████████████████▍      | 614kB 7.5MB/s eta 0:00:01\r\u001b[K     |█████████████████████████▉      | 624kB 7.5MB/s eta 0:00:01\r\u001b[K     |██████████████████████████▎     | 634kB 7.5MB/s eta 0:00:01\r\u001b[K     |██████████████████████████▊     | 645kB 7.5MB/s eta 0:00:01\r\u001b[K     |███████████████████████████     | 655kB 7.5MB/s eta 0:00:01\r\u001b[K     |███████████████████████████▌    | 665kB 7.5MB/s eta 0:00:01\r\u001b[K     |████████████████████████████    | 675kB 7.5MB/s eta 0:00:01\r\u001b[K     |████████████████████████████▍   | 686kB 7.5MB/s eta 0:00:01\r\u001b[K     |████████████████████████████▉   | 696kB 7.5MB/s eta 0:00:01\r\u001b[K     |█████████████████████████████▏  | 706kB 7.5MB/s eta 0:00:01\r\u001b[K     |█████████████████████████████▋  | 716kB 7.5MB/s eta 0:00:01\r\u001b[K     |██████████████████████████████  | 727kB 7.5MB/s eta 0:00:01\r\u001b[K     |██████████████████████████████▌ | 737kB 7.5MB/s eta 0:00:01\r\u001b[K     |███████████████████████████████ | 747kB 7.5MB/s eta 0:00:01\r\u001b[K     |███████████████████████████████▍| 757kB 7.5MB/s eta 0:00:01\r\u001b[K     |███████████████████████████████▊| 768kB 7.5MB/s eta 0:00:01\r\u001b[K     |████████████████████████████████| 778kB 7.5MB/s \n",
            "\u001b[?25hRequirement already satisfied: requests in /usr/local/lib/python3.6/dist-packages (from gdelt) (2.23.0)\n",
            "Requirement already satisfied: python-dateutil in /usr/local/lib/python3.6/dist-packages (from gdelt) (2.8.1)\n",
            "Requirement already satisfied: pandas>=0.20.3 in /usr/local/lib/python3.6/dist-packages (from gdelt) (1.1.2)\n",
            "Requirement already satisfied: numpy in /usr/local/lib/python3.6/dist-packages (from gdelt) (1.18.5)\n",
            "Requirement already satisfied: urllib3!=1.25.0,!=1.25.1,<1.26,>=1.21.1 in /usr/local/lib/python3.6/dist-packages (from requests->gdelt) (1.24.3)\n",
            "Requirement already satisfied: certifi>=2017.4.17 in /usr/local/lib/python3.6/dist-packages (from requests->gdelt) (2020.6.20)\n",
            "Requirement already satisfied: idna<3,>=2.5 in /usr/local/lib/python3.6/dist-packages (from requests->gdelt) (2.10)\n",
            "Requirement already satisfied: chardet<4,>=3.0.2 in /usr/local/lib/python3.6/dist-packages (from requests->gdelt) (3.0.4)\n",
            "Requirement already satisfied: six>=1.5 in /usr/local/lib/python3.6/dist-packages (from python-dateutil->gdelt) (1.15.0)\n",
            "Requirement already satisfied: pytz>=2017.2 in /usr/local/lib/python3.6/dist-packages (from pandas>=0.20.3->gdelt) (2018.9)\n",
            "Installing collected packages: gdelt\n",
            "Successfully installed gdelt-0.1.10.6\n"
          ],
          "name": "stdout"
        }
      ]
    },
    {
      "cell_type": "markdown",
      "metadata": {
        "id": "x-1Q42Gmh0ys"
      },
      "source": [
        "# GDELT Data\n",
        "\n",
        "Average daily data size is about 1.5GB\n",
        "\n",
        "If coverage is true, it collects all 15 mins data from GDELT, else it only collects daily 11:45PM data\n",
        "\n",
        "Gets total new cound and avg tone data for selected names and dates"
      ]
    },
    {
      "cell_type": "code",
      "metadata": {
        "id": "4XM4cjyTh7FN"
      },
      "source": [
        "import gdelt\n",
        "import pandas as pd\n",
        "import numpy as np\n",
        "import datetime\n",
        "\n",
        "gd2 = gdelt.gdelt(version = 2)\n",
        "# gkg = gd2.Search(['2016 08 01', '2016 08 05'], table = 'gkg', coverage = True)\n",
        "gkg = gd2.Search(['2016 06 01', '2016 10 31'], table = 'gkg')"
      ],
      "execution_count": null,
      "outputs": []
    },
    {
      "cell_type": "code",
      "metadata": {
        "id": "JUkB1qit5_5u"
      },
      "source": [
        "#gkg[gkg[\"V2Locations\"].notnull()].query(\"V2Locations.str.contains('US#')\", engine = \"python\")\n",
        "\n",
        "# 2020 Presidential and VP candicates\n",
        "# df.query(\"V2Persons.str.contains('Biden') or V2Persons.str.contains('Trump') or V2Persons.str.contains('Kamala') or V2Persons.str.contains('Pence')\", engine = \"python\", inplace = True)\n",
        "\n",
        "# 2016 Democrat candidate and VP filter\n",
        "# Extracting Tone column's list to new columns\n",
        "dem = gkg.query(\"V2Persons.str.contains('Clinton') or V2Persons.str.contains('Kaine')\", engine = \"python\")\n",
        "dem[[\"Tone\", \"Positive Score\", \"Negative Score\", \"Polarity\", \"Activity Ref. Den.\", \"Self_Group Ref. Den.\", \"WordCount\"]] = pd.DataFrame(dem[\"V2Tone\"].str.split(\",\").tolist(), index = dem.index)\n",
        "dem[\"Tone\"] = dem[\"Tone\"].astype(\"float\")\n",
        "\n",
        "# Extract state info\n",
        "dem[\"Locations\"].fillna(\"####0#0#\", inplace = True)\n",
        "dem[\"Country\"] = dem[\"Locations\"].apply(lambda x: str(str(x).split(\";\")[0]).split(\"#\")[2])\n",
        "dem[\"State\"] = dem[\"Locations\"].apply(lambda x: str(str(x).split(\";\")[0]).split(\"#\")[3])\n",
        "\n",
        "dem = dem[dem[\"Country\"] == \"US\"].reset_index()\n",
        "#sumd = dem.groupby([\"DATE\", \"State\"]).agg(dem_count = (\"DATE\", \"count\"), dem_tone = (\"Tone\", \"mean\")).reset_index()\n",
        "sumd = dem.groupby([\"DATE\", \"State\"]).agg(news_count = (\"DATE\", \"count\"), news_tone = (\"Tone\", \"mean\")).reset_index()\n",
        "sumd[\"party_type\"] = 1 # Democrat\n",
        "\n",
        "# 2016 Republican candidate and VP filter\n",
        "# Extracting Tone column's list to new columns\n",
        "rep = gkg.query(\"V2Persons.str.contains('Trump') or V2Persons.str.contains('Pence')\", engine = \"python\")\n",
        "rep[[\"Tone\", \"Positive Score\", \"Negative Score\", \"Polarity\", \"Activity Ref. Den.\", \"Self_Group Ref. Den.\", \"WordCount\"]] = pd.DataFrame(rep[\"V2Tone\"].str.split(\",\").tolist(), index = rep.index)\n",
        "rep[\"Tone\"] = rep[\"Tone\"].astype(\"float\")\n",
        "\n",
        "# Extract state info\n",
        "rep[\"Locations\"].fillna(\"####0#0#\", inplace = True)\n",
        "rep[\"Country\"] = rep[\"Locations\"].apply(lambda x: str(str(x).split(\";\")[0]).split(\"#\")[2])\n",
        "rep[\"State\"] = rep[\"Locations\"].apply(lambda x: str(str(x).split(\";\")[0]).split(\"#\")[3])\n",
        "\n",
        "rep = rep[rep[\"Country\"] == \"US\"].reset_index()\n",
        "#sumr = rep.groupby([\"DATE\", \"State\"]).agg(rep_count = (\"DATE\", \"count\"), rep_tone = (\"Tone\", \"mean\")).reset_index()\n",
        "sumr = rep.groupby([\"DATE\", \"State\"]).agg(news_count = (\"DATE\", \"count\"), news_tone = (\"Tone\", \"mean\")).reset_index()\n",
        "sumr[\"party_type\"] = 2 # Republican\n",
        "\n",
        "# Summarized GDELT Data\n",
        "# Candidate results are in columns\n",
        "#sumg = pd.merge(sumd, sumr, on = [\"DATE\", \"State\"], how = \"outer\")\n",
        "#sumg[\"DATE\"] = [datetime.datetime.strptime(x[:8], \"%Y%m%d\") for x in sumg[\"DATE\"].astype(\"str\")]\n",
        "\n",
        "#sumg[\"WeekNumber\"] = sumg.DATE.dt.week\n",
        "#weekly_sumg = sumg.groupby([\"WeekNumber\", \"State\"]).agg(total_dem_news = (\"dem_count\", \"sum\"), total_rep_news = (\"rep_count\", \"sum\"), \n",
        "#                                          avg_dem_tone = (\"dem_tone\", \"mean\"), avg_rep_tone = (\"rep_tone\", \"mean\")).reset_index()\n",
        "\n",
        "# Summarized GDELT Data\n",
        "# Candidate results are in rows\n",
        "sumg = sumr.append(sumd)\n",
        "sumg[\"DATE\"] = [datetime.datetime.strptime(x[:8], \"%Y%m%d\") for x in sumg[\"DATE\"].astype(\"str\")]\n",
        "\n",
        "sumg[\"WeekNumber\"] = sumg.DATE.dt.week\n",
        "weekly_sumg = sumg.groupby([\"WeekNumber\", \"State\", \"party_type\"]).agg(total_news = (\"news_count\", \"sum\"), avg_tone = (\"news_tone\", \"mean\")).reset_index()"
      ],
      "execution_count": null,
      "outputs": []
    },
    {
      "cell_type": "markdown",
      "metadata": {
        "id": "rGmhUzMoPh4d"
      },
      "source": [
        "!!!!!NOT COMPLETED!!!!!\n",
        "\n",
        "Daily Avg tone and news count retrival function\n",
        "\n",
        "GDELT library requires minimum 2 days to retrieve data"
      ]
    },
    {
      "cell_type": "code",
      "metadata": {
        "id": "ClkaHqXk-0Gv"
      },
      "source": [
        "def daily_cand_counts(start_date, end_date, dem1, dem2, rep1, rep2):\n",
        "  \"\"\"\n",
        "  Gets daily data from GDELT with 15 min intervals. Counts articles and mean of articles' tone for input names\n",
        "  \"\"\"\n",
        "  import gdelt\n",
        "  import pandas as pd\n",
        "  import datetime\n",
        "  \n",
        "  gd2 = gdelt.gdelt(version = 2)\n",
        "  sd = datetime.datetime.strptime(start_date, '%Y%m%d')\n",
        "  ed = datetime.datetime.strptime(end_date, '%Y%m%d')\n",
        "\n",
        "  # Date, candidate, article count, tone\n",
        "  daily_cand = []\n",
        "\n",
        "  while start_date <= end_date:\n",
        "    gkg = gd2.Search([start_date, start_date + timedelta(days = 1)], table = 'gkg', coverage = True)\n",
        "    cand = gkg.query(\"V2Persons.str.contains('\" + dem1 + \"') or V2Persons.str.contains('\" + dem2 + \"')\", engine = \"python\")\n",
        "    cand[[\"Tone\", \"Positive Score\", \"Negative Score\", \"Polarity\", \"Activity Ref. Den.\", \"Self_Group Ref. Den.\", \"WordCount\"]] = pd.DataFrame(cand[\"V2Tone\"].str.split(\",\").tolist(), index = cand.index)\n",
        "    daily_cand.append([start_date, dem1, cand.count(), cand.Tone.mean()])\n",
        "    del cand\n",
        "\n",
        "    cand = gkg.query(\"V2Persons.str.contains('\" + rep1 + \"') or V2Persons.str.contains('\" + rep2 + \"')\", engine = \"python\")\n",
        "    cand[[\"Tone\", \"Positive Score\", \"Negative Score\", \"Polarity\", \"Activity Ref. Den.\", \"Self_Group Ref. Den.\", \"WordCount\"]] = pd.DataFrame(cand[\"V2Tone\"].str.split(\",\").tolist(), index = cand.index)\n",
        "    daily_cand.append([start_date, rep1, cand.count(), cand.Tone.mean()])\n",
        "    del cand\n",
        "    del gkg\n",
        "\n",
        "    start_date = start_date + timedelta(days = 1)\n",
        "  return daily_cand"
      ],
      "execution_count": null,
      "outputs": []
    },
    {
      "cell_type": "markdown",
      "metadata": {
        "id": "swMDA6BDOPr0"
      },
      "source": [
        "# Poll Data\n",
        "\n",
        "Data is collected from https://github.com/fivethirtyeight/data/tree/master/polls\n",
        "\n",
        "Data source for 2016: https://github.com/fivethirtyeight/data/blob/master/polls/pres_pollaverages_1968-2016.csv"
      ]
    },
    {
      "cell_type": "code",
      "metadata": {
        "id": "Z-gUC9tBQmwT"
      },
      "source": [
        "!pip install -U -q PyDrive"
      ],
      "execution_count": null,
      "outputs": []
    },
    {
      "cell_type": "code",
      "metadata": {
        "id": "sCb-3UjssDUv"
      },
      "source": [
        "# Import PyDrive and associated libraries.\n",
        "# This only needs to be done once per notebook.\n",
        "import io\n",
        "from pydrive.auth import GoogleAuth\n",
        "from pydrive.drive import GoogleDrive\n",
        "from google.colab import auth\n",
        "from oauth2client.client import GoogleCredentials\n",
        "\n",
        "# Authenticate and create the PyDrive client.\n",
        "# This only needs to be done once per notebook.\n",
        "auth.authenticate_user()\n",
        "gauth = GoogleAuth()\n",
        "gauth.credentials = GoogleCredentials.get_application_default()\n",
        "drive = GoogleDrive(gauth)\n",
        "\n",
        "# Download a file based on its file ID.\n",
        "# A file ID looks like: laggVyWshwcyP6kEI-y_W3P8D26sz\n",
        "file_id = \"1nGNmW6bKM17pSO28DpSG40hFKKh5tp_h\"\n",
        "downloaded = drive.CreateFile({\"id\": file_id})\n",
        "#print('Downloaded content \"{}\"'.format(downloaded.GetContentString()))\n",
        "pdf = pd.read_csv(io.StringIO(downloaded.GetContentString(\"text/csv\")))"
      ],
      "execution_count": null,
      "outputs": []
    },
    {
      "cell_type": "markdown",
      "metadata": {
        "id": "EkLiXK42obe8"
      },
      "source": [
        "Import US State codes from Google Sheets\n",
        "\n",
        "Generated from: https://www.infoplease.com/us/postal-information/state-abbreviations-and-state-postal-codes"
      ]
    },
    {
      "cell_type": "code",
      "metadata": {
        "id": "cF2jaznGob7d"
      },
      "source": [
        "file_id = \"1827sqdSi7z99xZAxR01TkUdvxZRnxroQ_HEydS5shXA\"\n",
        "downloaded = drive.CreateFile({\"id\": file_id})\n",
        "#print('Downloaded content \"{}\"'.format(downloaded.GetContentString()))\n",
        "usc = pd.read_csv(io.StringIO(downloaded.GetContentString(\"text/csv\")))\n",
        "usc.columns = [\"State\",\t\"Abbreviation\", \"PostalCode\", \"GDELTCODE\"]\n",
        "usc[\"StateID\"] = range(1, 1 + len(usc))"
      ],
      "execution_count": null,
      "outputs": []
    },
    {
      "cell_type": "markdown",
      "metadata": {
        "id": "gDOxN8Hqqokf"
      },
      "source": [
        "!!!!!V2 Improvements!!!!!\n",
        "\n",
        "Needed to import electoral collage counts by state to rank states\n",
        "\n",
        "Also data can be split into 2 groups,\n",
        "*   Swing states\n",
        "*   Stable states\n",
        "\n",
        "\n"
      ]
    },
    {
      "cell_type": "markdown",
      "metadata": {
        "id": "nE35dYQMpamg"
      },
      "source": [
        "# Combining GDELT with Poll Data"
      ]
    },
    {
      "cell_type": "code",
      "metadata": {
        "id": "iXK8rjR9iFfj"
      },
      "source": [
        "import matplotlib.pyplot as plt\n",
        "import seaborn"
      ],
      "execution_count": null,
      "outputs": []
    },
    {
      "cell_type": "code",
      "metadata": {
        "id": "t0LEA26zMHZ_"
      },
      "source": [
        "# Filtering last year only\n",
        "pdf = pdf[pdf[\"cycle\"] == 2016]\n",
        "\n",
        "# Filtering poll data's month\n",
        "pdf.modeldate = pdf.modeldate.astype(\"datetime64\")\n",
        "pdf = pdf[(pdf[\"modeldate\"] >= '2016-06-01') & (pdf[\"modeldate\"] <= '2016-10-31')]\n",
        "\n",
        "# Filtering for candidates\n",
        "pdf = pdf[(pdf[\"candidate_name\"] == \"Donald Trump\") | (pdf[\"candidate_name\"] == \"Hillary Rodham Clinton\")]\n",
        "\n",
        "#pdf.hist(figsize = (20, 15))"
      ],
      "execution_count": null,
      "outputs": []
    },
    {
      "cell_type": "code",
      "metadata": {
        "id": "1-7nxgzJhzMJ"
      },
      "source": [
        "# Summarized Poll Data\n",
        "# Candidate results are in columns\n",
        "#pct_est = pd.pivot_table(pdf, values = \"pct_estimate\", index = [\"modeldate\", \"state\"], columns = \"candidate_name\").reset_index()\n",
        "#pct_est.columns = [\"DATE\", \"State\", \"rep_pct\", \"dem_pct\"]\n",
        "\n",
        "#pct_trend = pd.pivot_table(pdf, values = \"pct_trend_adjusted\", index = [\"modeldate\", \"state\"], columns = \"candidate_name\").reset_index()\n",
        "#pct_trend.columns = [\"DATE\", \"State\", \"rep_pct_trend\", \"dem_pct_trend\"]\n",
        "\n",
        "#polls = pd.merge(pct_est, pct_trend, on = [\"DATE\", \"State\"], how = \"outer\")\n",
        "#polls[\"WeekNumber\"] = polls.DATE.dt.week\n",
        "\n",
        "#weekly_polls = polls.groupby([\"WeekNumber\", \"State\"]).agg(avg_dem_trend = (\"dem_pct_trend\", \"mean\"), avg_rep_trend = (\"rep_pct_trend\", \"mean\"), \n",
        "#                                          avg_dem = (\"rep_pct\", \"mean\"), avg_rep = (\"dem_pct\", \"mean\")).reset_index()\n",
        "\n",
        "#poll_usc = pd.merge(usc, weekly_polls, on = \"State\", how = \"outer\")\n",
        "#final_df = pd.merge(weekly_sumg, poll_usc, left_on = [\"WeekNumber\", \"State\"], right_on = [\"WeekNumber\", \"GDELTCODE\"], how = \"outer\").reset_index()\n",
        "\n",
        "# Summarized Poll Data\n",
        "# Candidate results are in rows\n",
        "pta = pdf[[\"modeldate\", \"state\", \"candidate_name\", \"pct_trend_adjusted\"]]\n",
        "pta[\"modelweek\"] = pta.modeldate.dt.week\n",
        "pta.loc[pta[\"candidate_name\"] == \"Hillary Rodham Clinton\", \"party_type\"] = 1 # Democarat\n",
        "pta.loc[pta[\"candidate_name\"] == \"Donald Trump\", \"party_type\"] = 2 # Republican\n",
        "\n",
        "weekly_polls = pta.groupby([\"modelweek\", \"state\", \"party_type\"]).agg(adj_trend_pct = (\"pct_trend_adjusted\", \"mean\")).reset_index()\n",
        "poll_usc = pd.merge(usc, weekly_polls, left_on = \"State\", right_on = \"state\", how = \"outer\")\n",
        "final_df = pd.merge(weekly_sumg, poll_usc, left_on = [\"WeekNumber\", \"State\", \"party_type\"], right_on = [\"modelweek\", \"GDELTCODE\", \"party_type\"], how = \"outer\").reset_index()\n",
        "final_df = final_df[[\"StateID\", \"state\", \"PostalCode\", \"party_type\", \"WeekNumber\", \"total_news\", \"avg_tone\", \"adj_trend_pct\"]]"
      ],
      "execution_count": null,
      "outputs": []
    },
    {
      "cell_type": "code",
      "metadata": {
        "id": "iJlUX7WE9YRx",
        "outputId": "f0b27444-aab7-4144-9182-85be6788c03c",
        "colab": {
          "base_uri": "https://localhost:8080/",
          "height": 297
        }
      },
      "source": [
        "# Final data cleaning - removing NaN\n",
        "#final_df.dropna(subset=['PostalCode'])\n",
        "final_df.dropna(inplace = True)\n",
        "\n",
        "final_df.describe()"
      ],
      "execution_count": null,
      "outputs": [
        {
          "output_type": "execute_result",
          "data": {
            "text/html": [
              "<div>\n",
              "<style scoped>\n",
              "    .dataframe tbody tr th:only-of-type {\n",
              "        vertical-align: middle;\n",
              "    }\n",
              "\n",
              "    .dataframe tbody tr th {\n",
              "        vertical-align: top;\n",
              "    }\n",
              "\n",
              "    .dataframe thead th {\n",
              "        text-align: right;\n",
              "    }\n",
              "</style>\n",
              "<table border=\"1\" class=\"dataframe\">\n",
              "  <thead>\n",
              "    <tr style=\"text-align: right;\">\n",
              "      <th></th>\n",
              "      <th>StateID</th>\n",
              "      <th>party_type</th>\n",
              "      <th>WeekNumber</th>\n",
              "      <th>total_news</th>\n",
              "      <th>avg_tone</th>\n",
              "      <th>adj_trend_pct</th>\n",
              "    </tr>\n",
              "  </thead>\n",
              "  <tbody>\n",
              "    <tr>\n",
              "      <th>count</th>\n",
              "      <td>1423.000000</td>\n",
              "      <td>1423.000000</td>\n",
              "      <td>1423.000000</td>\n",
              "      <td>1423.000000</td>\n",
              "      <td>1423.000000</td>\n",
              "      <td>1423.000000</td>\n",
              "    </tr>\n",
              "    <tr>\n",
              "      <th>mean</th>\n",
              "      <td>25.215741</td>\n",
              "      <td>1.501054</td>\n",
              "      <td>33.754041</td>\n",
              "      <td>13.365425</td>\n",
              "      <td>-1.118950</td>\n",
              "      <td>41.092361</td>\n",
              "    </tr>\n",
              "    <tr>\n",
              "      <th>std</th>\n",
              "      <td>14.502068</td>\n",
              "      <td>0.500175</td>\n",
              "      <td>6.445919</td>\n",
              "      <td>29.511279</td>\n",
              "      <td>1.841128</td>\n",
              "      <td>7.444289</td>\n",
              "    </tr>\n",
              "    <tr>\n",
              "      <th>min</th>\n",
              "      <td>1.000000</td>\n",
              "      <td>1.000000</td>\n",
              "      <td>22.000000</td>\n",
              "      <td>1.000000</td>\n",
              "      <td>-11.475410</td>\n",
              "      <td>4.048433</td>\n",
              "    </tr>\n",
              "    <tr>\n",
              "      <th>25%</th>\n",
              "      <td>14.000000</td>\n",
              "      <td>1.000000</td>\n",
              "      <td>28.000000</td>\n",
              "      <td>2.000000</td>\n",
              "      <td>-2.066997</td>\n",
              "      <td>36.149801</td>\n",
              "    </tr>\n",
              "    <tr>\n",
              "      <th>50%</th>\n",
              "      <td>25.000000</td>\n",
              "      <td>2.000000</td>\n",
              "      <td>34.000000</td>\n",
              "      <td>4.000000</td>\n",
              "      <td>-1.086697</td>\n",
              "      <td>41.311863</td>\n",
              "    </tr>\n",
              "    <tr>\n",
              "      <th>75%</th>\n",
              "      <td>37.000000</td>\n",
              "      <td>2.000000</td>\n",
              "      <td>40.000000</td>\n",
              "      <td>11.000000</td>\n",
              "      <td>-0.019151</td>\n",
              "      <td>44.999887</td>\n",
              "    </tr>\n",
              "    <tr>\n",
              "      <th>max</th>\n",
              "      <td>51.000000</td>\n",
              "      <td>2.000000</td>\n",
              "      <td>44.000000</td>\n",
              "      <td>290.000000</td>\n",
              "      <td>5.798208</td>\n",
              "      <td>87.595270</td>\n",
              "    </tr>\n",
              "  </tbody>\n",
              "</table>\n",
              "</div>"
            ],
            "text/plain": [
              "           StateID   party_type  ...     avg_tone  adj_trend_pct\n",
              "count  1423.000000  1423.000000  ...  1423.000000    1423.000000\n",
              "mean     25.215741     1.501054  ...    -1.118950      41.092361\n",
              "std      14.502068     0.500175  ...     1.841128       7.444289\n",
              "min       1.000000     1.000000  ...   -11.475410       4.048433\n",
              "25%      14.000000     1.000000  ...    -2.066997      36.149801\n",
              "50%      25.000000     2.000000  ...    -1.086697      41.311863\n",
              "75%      37.000000     2.000000  ...    -0.019151      44.999887\n",
              "max      51.000000     2.000000  ...     5.798208      87.595270\n",
              "\n",
              "[8 rows x 6 columns]"
            ]
          },
          "metadata": {
            "tags": []
          },
          "execution_count": 11
        }
      ]
    },
    {
      "cell_type": "markdown",
      "metadata": {
        "id": "Io3o9fosOqUL"
      },
      "source": [
        "# Xgboost-Lin Reg Implementation"
      ]
    },
    {
      "cell_type": "code",
      "metadata": {
        "id": "63Kx01DXMFYw",
        "outputId": "a1b43943-e4e2-499d-d565-b815426830a7",
        "colab": {
          "base_uri": "https://localhost:8080/",
          "height": 68
        }
      },
      "source": [
        "!pip install xgboost"
      ],
      "execution_count": null,
      "outputs": [
        {
          "output_type": "stream",
          "text": [
            "Requirement already satisfied: xgboost in /usr/local/lib/python3.6/dist-packages (0.90)\n",
            "Requirement already satisfied: scipy in /usr/local/lib/python3.6/dist-packages (from xgboost) (1.4.1)\n",
            "Requirement already satisfied: numpy in /usr/local/lib/python3.6/dist-packages (from xgboost) (1.18.5)\n"
          ],
          "name": "stdout"
        }
      ]
    },
    {
      "cell_type": "code",
      "metadata": {
        "id": "iy7VtRA6O1Wy"
      },
      "source": [
        "import xgboost as xgb\n",
        "from sklearn.model_selection import train_test_split\n",
        "from sklearn.model_selection import KFold\n",
        "from sklearn.model_selection import cross_val_score\n",
        "from sklearn.metrics import mean_squared_error\n",
        "from sklearn.metrics import accuracy_score"
      ],
      "execution_count": null,
      "outputs": []
    },
    {
      "cell_type": "code",
      "metadata": {
        "id": "eV5xtBg0SDr3",
        "outputId": "c2ce0404-4ffb-4373-b25d-8950e357dd32",
        "colab": {
          "base_uri": "https://localhost:8080/",
          "height": 52
        }
      },
      "source": [
        "#X_train, X_test, Y_train, Y_test = train_test_split(final_df[[\"StateID\", \"party_type\", \"total_news\", \"avg_tone\"]], final_df[\"adj_trend_pct\"], test_size = 0.2, random_state = 1101)\n",
        "X_train, X_test, Y_train, Y_test = train_test_split(final_df[[\"party_type\", \"total_news\", \"avg_tone\"]], final_df[\"adj_trend_pct\"], test_size = 0.2, random_state = 1101)\n",
        "\n",
        "xg_reg = xgb.XGBRegressor(\n",
        "    objective = 'reg:linear',\n",
        "    colsample_bytree = 0.5,\n",
        "    learning_rate = 0.5,\n",
        "    max_depth = 5,\n",
        "    alpha = 10,\n",
        "    n_estimators = 100)\n",
        "\n",
        "xg_reg.fit(X_train, Y_train)\n",
        "\n",
        "preds = xg_reg.predict(X_test)\n",
        "\n",
        "rmse = np.sqrt(mean_squared_error(Y_test, preds))\n",
        "\"RMSE: %f\" % (rmse)"
      ],
      "execution_count": null,
      "outputs": [
        {
          "output_type": "stream",
          "text": [
            "[20:10:16] WARNING: /workspace/src/objective/regression_obj.cu:152: reg:linear is now deprecated in favor of reg:squarederror.\n"
          ],
          "name": "stdout"
        },
        {
          "output_type": "execute_result",
          "data": {
            "application/vnd.google.colaboratory.intrinsic+json": {
              "type": "string"
            },
            "text/plain": [
              "'RMSE: 8.531900'"
            ]
          },
          "metadata": {
            "tags": []
          },
          "execution_count": 35
        }
      ]
    },
    {
      "cell_type": "code",
      "metadata": {
        "id": "qlDCfaa_Q9tK"
      },
      "source": [
        "accuracy = accuracy_score(Y_test, preds)\n",
        "print(\"Accuracy: %.2f%%\" % (accuracy * 100.0))"
      ],
      "execution_count": null,
      "outputs": []
    },
    {
      "cell_type": "markdown",
      "metadata": {
        "id": "VllyoHetb0ML"
      },
      "source": [
        "Cross Validition"
      ]
    },
    {
      "cell_type": "code",
      "metadata": {
        "id": "iMLllqaGbzSV",
        "outputId": "fc201d57-1c50-4156-e39f-1641a385d165",
        "colab": {
          "base_uri": "https://localhost:8080/",
          "height": 102
        }
      },
      "source": [
        "#data_dmatrix = xgb.DMatrix(data = final_df[[\"StateID\", \"party_type\", \"total_news\", \"avg_tone\"]], label = final_df[\"adj_trend_pct\"])\n",
        "data_dmatrix = xgb.DMatrix(data = final_df[[\"party_type\", \"total_news\", \"avg_tone\"]], label = final_df[\"adj_trend_pct\"])\n",
        "\n",
        "params = {\n",
        "    \"objective\": \"reg:linear\",\n",
        "    \"colsample_bytree\": 0.5,\n",
        "    \"learning_rate\": 0.5,\n",
        "    \"max_depth\": 5,\n",
        "    \"alpha\": 10,\n",
        "    \"n_estimators\": 100}\n",
        "\n",
        "cv_results = xgb.cv(dtrain = data_dmatrix, params = params, nfold = 3,\n",
        "                    num_boost_round = 50, early_stopping_rounds = 10, metrics = \"rmse\", as_pandas = True, seed = 1101)\n",
        "\n",
        "cv_results[\"test-rmse-mean\"].tail(1)"
      ],
      "execution_count": null,
      "outputs": [
        {
          "output_type": "stream",
          "text": [
            "[20:10:35] WARNING: /workspace/src/objective/regression_obj.cu:152: reg:linear is now deprecated in favor of reg:squarederror.\n",
            "[20:10:35] WARNING: /workspace/src/objective/regression_obj.cu:152: reg:linear is now deprecated in favor of reg:squarederror.\n",
            "[20:10:35] WARNING: /workspace/src/objective/regression_obj.cu:152: reg:linear is now deprecated in favor of reg:squarederror.\n"
          ],
          "name": "stdout"
        },
        {
          "output_type": "execute_result",
          "data": {
            "text/plain": [
              "8    7.451217\n",
              "Name: test-rmse-mean, dtype: float64"
            ]
          },
          "metadata": {
            "tags": []
          },
          "execution_count": 37
        }
      ]
    },
    {
      "cell_type": "code",
      "metadata": {
        "id": "4iDNreq1W1ba"
      },
      "source": [
        "xg_reg = xgb.train(params = params, dtrain = data_dmatrix, num_boost_round = 100)"
      ],
      "execution_count": null,
      "outputs": []
    },
    {
      "cell_type": "code",
      "metadata": {
        "id": "52Kt51eIfEFJ",
        "outputId": "6c5e6f1b-889b-4105-e16f-eb38098c7ed1",
        "colab": {
          "base_uri": "https://localhost:8080/",
          "height": 472
        }
      },
      "source": [
        "xgb.plot_importance(xg_reg)\n",
        "plt.rcParams['figure.figsize'] = [5, 15]\n",
        "plt.show()"
      ],
      "execution_count": null,
      "outputs": [
        {
          "output_type": "display_data",
          "data": {
            "image/png": "[encoded data removed]",
            "text/plain": [
              "<Figure size 3600x1080 with 1 Axes>"
            ]
          },
          "metadata": {
            "tags": [],
            "needs_background": "light"
          }
        }
      ]
    },
    {
      "cell_type": "code",
      "metadata": {
        "id": "2lAFycjMZdjL",
        "outputId": "e7773fc8-355d-49e4-db9c-848868557bfa",
        "colab": {
          "base_uri": "https://localhost:8080/",
          "height": 95
        }
      },
      "source": [
        "xgb.plot_tree(xg_reg, num_trees = 5)\n",
        "plt.rcParams['figure.figsize'] = [50, 15]\n",
        "plt.show()"
      ],
      "execution_count": null,
      "outputs": [
        {
          "output_type": "display_data",
          "data": {
            "image/png": "[encoded data removed]",
            "text/plain": [
              "<Figure size 360x1080 with 1 Axes>"
            ]
          },
          "metadata": {
            "tags": [],
            "needs_background": "light"
          }
        }
      ]
    },
    {
      "cell_type": "markdown",
      "metadata": {
        "id": "PR8Lkej6w1YC"
      },
      "source": [
        "Save Model"
      ]
    },
    {
      "cell_type": "code",
      "metadata": {
        "id": "cqvCC5siw4LU"
      },
      "source": [
        "import pickle\n",
        "\t\n",
        "# save model to file\n",
        "pickle.dump(xg_reg, open(\"elct_pre_model.dat\", \"wb\"))\n",
        "\n",
        "xg_reg.save_model(\"elct_pre_model.model\")"
      ],
      "execution_count": null,
      "outputs": []
    },
    {
      "cell_type": "markdown",
      "metadata": {
        "id": "m1cNAqV7rXJA"
      },
      "source": [
        "# 2020 Poll Predictions"
      ]
    },
    {
      "cell_type": "code",
      "metadata": {
        "id": "pcsehBOzraih"
      },
      "source": [
        "gkg_2020 = gd2.Search(['2020 06 01', '2020 09 30'], table = 'gkg')"
      ],
      "execution_count": null,
      "outputs": []
    },
    {
      "cell_type": "code",
      "metadata": {
        "id": "zS2YLETnr01L"
      },
      "source": [
        "# 2020 Democrat candidate and VP filter\n",
        "# Extracting Tone column's list to new columns\n",
        "dem = gkg.query(\"V2Persons.str.contains('Biden') or V2Persons.str.contains('Harris')\", engine = \"python\")\n",
        "dem[[\"Tone\", \"Positive Score\", \"Negative Score\", \"Polarity\", \"Activity Ref. Den.\", \"Self_Group Ref. Den.\", \"WordCount\"]] = pd.DataFrame(dem[\"V2Tone\"].str.split(\",\").tolist(), index = dem.index)\n",
        "dem[\"Tone\"] = dem[\"Tone\"].astype(\"float\")\n",
        "\n",
        "# Extract state info\n",
        "dem[\"Locations\"].fillna(\"####0#0#\", inplace = True)\n",
        "dem[\"Country\"] = dem[\"Locations\"].apply(lambda x: str(str(x).split(\";\")[0]).split(\"#\")[2])\n",
        "dem[\"State\"] = dem[\"Locations\"].apply(lambda x: str(str(x).split(\";\")[0]).split(\"#\")[3])\n",
        "\n",
        "dem = dem[dem[\"Country\"] == \"US\"].reset_index()\n",
        "#sumd = dem.groupby([\"DATE\", \"State\"]).agg(dem_count = (\"DATE\", \"count\"), dem_tone = (\"Tone\", \"mean\")).reset_index()\n",
        "sumd = dem.groupby([\"DATE\", \"State\"]).agg(news_count = (\"DATE\", \"count\"), news_tone = (\"Tone\", \"mean\")).reset_index()\n",
        "sumd[\"party_type\"] = 1 # Democrat\n",
        "\n",
        "# 2020 Republican candidate and VP filter\n",
        "# Extracting Tone column's list to new columns\n",
        "rep = gkg.query(\"V2Persons.str.contains('Trump') or V2Persons.str.contains('Pence')\", engine = \"python\")\n",
        "rep[[\"Tone\", \"Positive Score\", \"Negative Score\", \"Polarity\", \"Activity Ref. Den.\", \"Self_Group Ref. Den.\", \"WordCount\"]] = pd.DataFrame(rep[\"V2Tone\"].str.split(\",\").tolist(), index = rep.index)\n",
        "rep[\"Tone\"] = rep[\"Tone\"].astype(\"float\")\n",
        "\n",
        "# Extract state info\n",
        "rep[\"Locations\"].fillna(\"####0#0#\", inplace = True)\n",
        "rep[\"Country\"] = rep[\"Locations\"].apply(lambda x: str(str(x).split(\";\")[0]).split(\"#\")[2])\n",
        "rep[\"State\"] = rep[\"Locations\"].apply(lambda x: str(str(x).split(\";\")[0]).split(\"#\")[3])\n",
        "\n",
        "rep = rep[rep[\"Country\"] == \"US\"].reset_index()\n",
        "#sumr = rep.groupby([\"DATE\", \"State\"]).agg(rep_count = (\"DATE\", \"count\"), rep_tone = (\"Tone\", \"mean\")).reset_index()\n",
        "sumr = rep.groupby([\"DATE\", \"State\"]).agg(news_count = (\"DATE\", \"count\"), news_tone = (\"Tone\", \"mean\")).reset_index()\n",
        "sumr[\"party_type\"] = 2 # Republican\n",
        "\n",
        "# Summarized GDELT Data\n",
        "# Candidate results are in rows\n",
        "sumg = sumr.append(sumd)\n",
        "sumg[\"DATE\"] = [datetime.datetime.strptime(x[:8], \"%Y%m%d\") for x in sumg[\"DATE\"].astype(\"str\")]\n",
        "\n",
        "sumg[\"WeekNumber\"] = sumg.DATE.dt.week\n",
        "weekly_sumg = sumg.groupby([\"WeekNumber\", \"State\", \"party_type\"]).agg(total_news = (\"news_count\", \"sum\"), avg_tone = (\"news_tone\", \"mean\")).reset_index()\n",
        "weekly_sumg.drop(weekly_sumg[weekly_sumg[\"State\"] == \"US\"].index, inplace = True)"
      ],
      "execution_count": null,
      "outputs": []
    },
    {
      "cell_type": "code",
      "metadata": {
        "id": "XA0MY-cnXtbu",
        "outputId": "488fe2df-7281-4a9c-8f8b-fc546e7842d7",
        "colab": {
          "base_uri": "https://localhost:8080/",
          "height": 204
        }
      },
      "source": [
        "weekly_sumg.head()"
      ],
      "execution_count": null,
      "outputs": [
        {
          "output_type": "execute_result",
          "data": {
            "text/html": [
              "<div>\n",
              "<style scoped>\n",
              "    .dataframe tbody tr th:only-of-type {\n",
              "        vertical-align: middle;\n",
              "    }\n",
              "\n",
              "    .dataframe tbody tr th {\n",
              "        vertical-align: top;\n",
              "    }\n",
              "\n",
              "    .dataframe thead th {\n",
              "        text-align: right;\n",
              "    }\n",
              "</style>\n",
              "<table border=\"1\" class=\"dataframe\">\n",
              "  <thead>\n",
              "    <tr style=\"text-align: right;\">\n",
              "      <th></th>\n",
              "      <th>WeekNumber</th>\n",
              "      <th>State</th>\n",
              "      <th>party_type</th>\n",
              "      <th>total_news</th>\n",
              "      <th>avg_tone</th>\n",
              "    </tr>\n",
              "  </thead>\n",
              "  <tbody>\n",
              "    <tr>\n",
              "      <th>2</th>\n",
              "      <td>22</td>\n",
              "      <td>USAL</td>\n",
              "      <td>1</td>\n",
              "      <td>1</td>\n",
              "      <td>-0.702988</td>\n",
              "    </tr>\n",
              "    <tr>\n",
              "      <th>3</th>\n",
              "      <td>22</td>\n",
              "      <td>USAL</td>\n",
              "      <td>2</td>\n",
              "      <td>1</td>\n",
              "      <td>-3.191489</td>\n",
              "    </tr>\n",
              "    <tr>\n",
              "      <th>4</th>\n",
              "      <td>22</td>\n",
              "      <td>USAR</td>\n",
              "      <td>1</td>\n",
              "      <td>5</td>\n",
              "      <td>-0.962473</td>\n",
              "    </tr>\n",
              "    <tr>\n",
              "      <th>5</th>\n",
              "      <td>22</td>\n",
              "      <td>USAR</td>\n",
              "      <td>2</td>\n",
              "      <td>3</td>\n",
              "      <td>-1.660931</td>\n",
              "    </tr>\n",
              "    <tr>\n",
              "      <th>6</th>\n",
              "      <td>22</td>\n",
              "      <td>USAZ</td>\n",
              "      <td>2</td>\n",
              "      <td>3</td>\n",
              "      <td>0.734783</td>\n",
              "    </tr>\n",
              "  </tbody>\n",
              "</table>\n",
              "</div>"
            ],
            "text/plain": [
              "   WeekNumber State  party_type  total_news  avg_tone\n",
              "2          22  USAL           1           1 -0.702988\n",
              "3          22  USAL           2           1 -3.191489\n",
              "4          22  USAR           1           5 -0.962473\n",
              "5          22  USAR           2           3 -1.660931\n",
              "6          22  USAZ           2           3  0.734783"
            ]
          },
          "metadata": {
            "tags": []
          },
          "execution_count": 54
        }
      ]
    },
    {
      "cell_type": "code",
      "metadata": {
        "id": "Jz3k9hDdsSbi"
      },
      "source": [
        "preds = xg_reg.predict(weekly_sumg[[\"party_type\", \"total_news\", \"avg_tone\"]])\n",
        "\n",
        "poll_preds = weekly_sumg[[\"party_type\", \"total_news\", \"avg_tone\"]]\n",
        "poll_preds[\"adj_trend_pred\"] = preds\n",
        "poll_preds[\"state\"] = weekly_sumg[\"State\"]\n",
        "poll_preds[\"weeknumber\"] = weekly_sumg[\"WeekNumber\"]\n",
        "res = pd.merge(usc, poll_preds, left_on = \"GDELTCODE\", right_on = \"state\", how = \"right\")\n",
        "res = res[[\"weeknumber\", \"State\", \"PostalCode\", \"party_type\", \"total_news\", \"avg_tone\", \"adj_trend_pred\"]]\n",
        "\n"
      ],
      "execution_count": null,
      "outputs": []
    },
    {
      "cell_type": "markdown",
      "metadata": {
        "id": "YH7-ouWL8kyf"
      },
      "source": [
        "# 2020 Comparison\n",
        "\n",
        "2020 Poll Data\n",
        "\n",
        "Data source for 2020: https://projects.fivethirtyeight.com/2020-general-data/presidential_poll_averages_2020.csv"
      ]
    },
    {
      "cell_type": "code",
      "metadata": {
        "id": "yqeD1uuxtEU9"
      },
      "source": [
        "# Authenticate and create the PyDrive client.\n",
        "# This only needs to be done once per notebook.\n",
        "auth.authenticate_user()\n",
        "gauth = GoogleAuth()\n",
        "gauth.credentials = GoogleCredentials.get_application_default()\n",
        "drive = GoogleDrive(gauth)\n",
        "\n",
        "# Download a file based on its file ID.\n",
        "# A file ID looks like: laggVyWshwcyP6kEI-y_W3P8D26sz\n",
        "file_id = \"1hjsg9oaEy4gfagHqNzbmr-1PLfdIE7SiMvwG5ar3Vc4\"\n",
        "downloaded = drive.CreateFile({\"id\": file_id})\n",
        "#print('Downloaded content \"{}\"'.format(downloaded.GetContentString()))\n",
        "poll_2020 = pd.read_csv(io.StringIO(downloaded.GetContentString(\"text/csv\")))"
      ],
      "execution_count": null,
      "outputs": []
    },
    {
      "cell_type": "code",
      "metadata": {
        "id": "25GNvsiE1xQm"
      },
      "source": [
        "# Filtering poll data's month\n",
        "poll_2020 = poll_2020[poll_2020[\"cycle\"] == 2020]\n",
        "poll_2020.modeldate = poll_2020.modeldate.astype(\"datetime64\")\n",
        "poll_2020 = poll_2020[(poll_2020[\"modeldate\"] >= '2020-06-01') & (poll_2020[\"modeldate\"] <= '2020-09-30')]"
      ],
      "execution_count": null,
      "outputs": []
    },
    {
      "cell_type": "code",
      "metadata": {
        "id": "cIsDZFFW2N9g"
      },
      "source": [
        "p20 = poll_2020[[\"modeldate\", \"state\", \"candidate_name\", \"pct_trend_adjusted\"]]\n",
        "p20[\"modelweek\"] = p20.modeldate.dt.week\n",
        "p20.loc[p20[\"candidate_name\"] == \"Joseph R. Biden Jr.\", \"party_type\"] = 1 # Democarat\n",
        "p20.loc[p20[\"candidate_name\"] == \"Donald Trump\", \"party_type\"] = 2 # Republican\n",
        "\n",
        "wp_20 = p20.groupby([\"modelweek\", \"state\", \"party_type\"]).agg(adj_trend_pct = (\"pct_trend_adjusted\", \"mean\")).reset_index()\n",
        "\n",
        "pred_df = pd.merge(res, wp_20, left_on = [\"weeknumber\", \"State\", \"party_type\"], right_on = [\"modelweek\", \"state\", \"party_type\"], how = \"outer\").reset_index()"
      ],
      "execution_count": null,
      "outputs": []
    },
    {
      "cell_type": "code",
      "metadata": {
        "id": "ANUQcUzc62z_"
      },
      "source": [
        "pred_df.head(20)"
      ],
      "execution_count": null,
      "outputs": []
    }
  ]
}